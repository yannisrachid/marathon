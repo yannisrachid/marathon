{
 "cells": [
  {
   "cell_type": "code",
   "execution_count": null,
   "metadata": {},
   "outputs": [],
   "source": [
    "pip install flask_mysqldb"
   ]
  },
  {
   "cell_type": "code",
   "execution_count": 12,
   "metadata": {},
   "outputs": [
    {
     "name": "stdout",
     "output_type": "stream",
     "text": [
      " * Serving Flask app \"__main__\" (lazy loading)\n",
      " * Environment: production\n",
      "   WARNING: This is a development server. Do not use it in a production deployment.\n",
      "   Use a production WSGI server instead.\n",
      " * Debug mode: off\n"
     ]
    },
    {
     "name": "stderr",
     "output_type": "stream",
     "text": [
      " * Running on http://127.0.0.1:3309/ (Press CTRL+C to quit)\n",
      "127.0.0.1 - - [22/Mar/2021 17:13:42] \"\u001b[37mGET / HTTP/1.1\u001b[0m\" 200 -\n",
      "[2021-03-22 17:13:52,742] ERROR in app: Exception on /inscrit/ [POST]\n",
      "Traceback (most recent call last):\n",
      "  File \"C:\\Users\\_USER\\anaconda3\\lib\\site-packages\\flask\\app.py\", line 2447, in wsgi_app\n",
      "    response = self.full_dispatch_request()\n",
      "  File \"C:\\Users\\_USER\\anaconda3\\lib\\site-packages\\flask\\app.py\", line 1953, in full_dispatch_request\n",
      "    return self.finalize_request(rv)\n",
      "  File \"C:\\Users\\_USER\\anaconda3\\lib\\site-packages\\flask\\app.py\", line 1968, in finalize_request\n",
      "    response = self.make_response(rv)\n",
      "  File \"C:\\Users\\_USER\\anaconda3\\lib\\site-packages\\flask\\app.py\", line 2097, in make_response\n",
      "    raise TypeError(\n",
      "TypeError: The view function did not return a valid response. The function either returned None or ended without a return statement.\n",
      "127.0.0.1 - - [22/Mar/2021 17:13:52] \"\u001b[35m\u001b[1mPOST /inscrit/ HTTP/1.1\u001b[0m\" 500 -\n"
     ]
    },
    {
     "name": "stdout",
     "output_type": "stream",
     "text": [
      "Sénégal\n"
     ]
    }
   ],
   "source": [
    "#!/usr/bin/env python\n",
    "# coding: utf-8\n",
    "\n",
    "# PREMIER SITE ESSAI\n",
    "\n",
    "from flask import Flask, render_template, Markup, request, url_for\n",
    "#from flask_mail import Mail, Message\n",
    "from itsdangerous import URLSafeTimedSerializer, SignatureExpired\n",
    "import cx_Oracle\n",
    "import datetime\n",
    "from sqlalchemy import create_engine\n",
    "from gevent.pywsgi import WSGIServer\n",
    "from flask_mysqldb import MySQL\n",
    "import random\n",
    "from flask import request\n",
    "\n",
    "\n",
    "\n",
    "app=Flask(__name__)\n",
    "\n",
    "app.config['MYSQL_HOST'] = 'localhost'\n",
    "app.config['MYSQL_USER'] = 'root'\n",
    "app.config['MYSQL_PASSWORD'] = ''\n",
    "app.config['MYSQL_DB'] = 'medannotate'\n",
    "\n",
    "mysql=MySQL(app)\n",
    "\n",
    "@app.route('/')#index\n",
    "def index():\n",
    "    return render_template(\"pages/inscription.html\")\n",
    "\n",
    "@app.route('/visualisation')#index\n",
    "def interface():\n",
    "    return render_template('pages/interface.html')\n",
    "\n",
    "@app.route('/inscrit/', methods = ['GET', 'POST'])\n",
    "def inscrit():\n",
    "    pseudo = request.form['pseudo']\n",
    "    adresse_ip = request.remote_addr\n",
    "    age=request.form['age']\n",
    "    genre=request.form['genre']\n",
    "    pays=request.form['pays']\n",
    "    \n",
    "    print(pays)\n",
    "    #cur = mysql.connection.cursor()\n",
    "    \n",
    "#     try:\n",
    "#         strSQL =\"SELECT `insertion`('\"+pseudo+\"','\"+adresse_ip+\"','\"+ str(age)+\"','\"+ pays+\"','\"+genre+\"')\"\n",
    "#         cur.execute(strSQL)\n",
    "#         mysql.connection.commit()\n",
    "#         fetchdata = cur.fetchall()\n",
    "#         cur.close()\n",
    "#         retour=fetchdata[0][0]\n",
    "        \n",
    "#         if retour!=0:\n",
    "#             retour=-1\n",
    "#     finally:\n",
    "#         cur.close()\n",
    "#     return render_template(\"pages/inscription.html\", content = retour )\n",
    "\n",
    "\n",
    "if __name__=='__main__':\n",
    "    app.run( port=3309, debug=False)"
   ]
  },
  {
   "cell_type": "code",
   "execution_count": null,
   "metadata": {},
   "outputs": [],
   "source": [
    "mdp_test=(('aaaa66',),)\n",
    "print(mdp_test[0][0])"
   ]
  },
  {
   "cell_type": "code",
   "execution_count": 16,
   "metadata": {},
   "outputs": [
    {
     "ename": "AttributeError",
     "evalue": "'NoneType' object has no attribute 'cursor'",
     "output_type": "error",
     "traceback": [
      "\u001b[1;31m---------------------------------------------------------------------------\u001b[0m",
      "\u001b[1;31mAttributeError\u001b[0m                            Traceback (most recent call last)",
      "\u001b[1;32m<ipython-input-16-55ab62f2ec03>\u001b[0m in \u001b[0;36m<module>\u001b[1;34m\u001b[0m\n\u001b[1;32m----> 1\u001b[1;33m \u001b[0mcur\u001b[0m \u001b[1;33m=\u001b[0m \u001b[0mmysql\u001b[0m\u001b[1;33m.\u001b[0m\u001b[0mconnection\u001b[0m\u001b[1;33m.\u001b[0m\u001b[0mcursor\u001b[0m\u001b[1;33m(\u001b[0m\u001b[1;33m)\u001b[0m\u001b[1;33m\u001b[0m\u001b[1;33m\u001b[0m\u001b[0m\n\u001b[0m\u001b[0;32m      2\u001b[0m strSQL = \"\"\"SET @p0='bbbbb'; SET @p1='hjsbdcj'; SET @p2='1'; SET @p3='kjzenle'; SET @p4='jejk';\n\u001b[0;32m      3\u001b[0m                 SET @p5='1997-02-02'; CALL `inscription`(@p0, @p1, @p2, @p3, @p4, @p5, @p6); SELECT @p6 AS `retour`;\"\"\"\n\u001b[0;32m      4\u001b[0m \u001b[0mcur\u001b[0m\u001b[1;33m.\u001b[0m\u001b[0mexecute\u001b[0m\u001b[1;33m(\u001b[0m\u001b[0mstrSQL\u001b[0m\u001b[1;33m)\u001b[0m\u001b[1;33m\u001b[0m\u001b[1;33m\u001b[0m\u001b[0m\n\u001b[0;32m      5\u001b[0m \u001b[0mfetchdata\u001b[0m \u001b[1;33m=\u001b[0m \u001b[0mcur\u001b[0m\u001b[1;33m.\u001b[0m\u001b[0mfetchall\u001b[0m\u001b[1;33m(\u001b[0m\u001b[1;33m)\u001b[0m\u001b[1;33m\u001b[0m\u001b[1;33m\u001b[0m\u001b[0m\n",
      "\u001b[1;31mAttributeError\u001b[0m: 'NoneType' object has no attribute 'cursor'"
     ]
    }
   ],
   "source": []
  },
  {
   "cell_type": "code",
   "execution_count": null,
   "metadata": {},
   "outputs": [],
   "source": [
    "cur = mysql.connection.cursor()\n",
    "strSQL = \"\"\"SET @p0='bbbbb'; SET @p1='hjsbdcj'; SET @p2='1'; SET @p3='kjzenle'; SET @p4='jejk';\n",
    "                SET @p5='1997-02-02'; CALL `inscription`(@p0, @p1, @p2, @p3, @p4, @p5, @p6); SELECT @p6 AS `retour`;\"\"\"\n",
    "cur.execute(strSQL)\n",
    "fetchdata = cur.fetchall()\n",
    "cur.close()\n",
    "print('fetch', fetchdata)"
   ]
  },
  {
   "cell_type": "code",
   "execution_count": null,
   "metadata": {},
   "outputs": [],
   "source": []
  },
  {
   "cell_type": "code",
   "execution_count": null,
   "metadata": {},
   "outputs": [],
   "source": []
  }
 ],
 "metadata": {
  "kernelspec": {
   "display_name": "Python 3",
   "language": "python",
   "name": "python3"
  },
  "language_info": {
   "codemirror_mode": {
    "name": "ipython",
    "version": 3
   },
   "file_extension": ".py",
   "mimetype": "text/x-python",
   "name": "python",
   "nbconvert_exporter": "python",
   "pygments_lexer": "ipython3",
   "version": "3.8.5"
  }
 },
 "nbformat": 4,
 "nbformat_minor": 4
}
