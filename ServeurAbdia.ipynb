{
 "cells": [
  {
   "cell_type": "code",
   "execution_count": null,
   "metadata": {},
   "outputs": [],
   "source": [
    "pip install flask_mysqldb"
   ]
  },
  {
   "cell_type": "code",
   "execution_count": 7,
   "metadata": {},
   "outputs": [
    {
     "name": "stdout",
     "output_type": "stream",
     "text": [
      " * Serving Flask app \"__main__\" (lazy loading)\n",
      " * Environment: production\n",
      "   WARNING: This is a development server. Do not use it in a production deployment.\n",
      "   Use a production WSGI server instead.\n",
      " * Debug mode: off\n"
     ]
    },
    {
     "name": "stderr",
     "output_type": "stream",
     "text": [
      " * Running on http://127.0.0.1:3309/ (Press CTRL+C to quit)\n",
      "127.0.0.1 - - [23/Mar/2021 20:24:10] \"\u001b[37mGET / HTTP/1.1\u001b[0m\" 200 -\n"
     ]
    },
    {
     "name": "stdout",
     "output_type": "stream",
     "text": [
      "Antigua-et-Barbuda\n",
      "0\n"
     ]
    },
    {
     "name": "stderr",
     "output_type": "stream",
     "text": [
      "127.0.0.1 - - [23/Mar/2021 20:24:23] \"\u001b[37mPOST /inscrit/ HTTP/1.1\u001b[0m\" 200 -\n",
      "127.0.0.1 - - [23/Mar/2021 20:26:46] \"\u001b[37mPOST /inscrit/ HTTP/1.1\u001b[0m\" 200 -\n"
     ]
    },
    {
     "name": "stdout",
     "output_type": "stream",
     "text": [
      "Antigua-et-Barbuda\n",
      "-1\n"
     ]
    }
   ],
   "source": [
    "#!/usr/bin/env python\n",
    "# coding: utf-8\n",
    "\n",
    "# PREMIER SITE ESSAI\n",
    "\n",
    "from flask import Flask, render_template, Markup, request, url_for\n",
    "#from flask_mail import Mail, Message\n",
    "from itsdangerous import URLSafeTimedSerializer, SignatureExpired\n",
    "import cx_Oracle\n",
    "import datetime\n",
    "from sqlalchemy import create_engine\n",
    "from gevent.pywsgi import WSGIServer\n",
    "from flask_mysqldb import MySQL\n",
    "import random\n",
    "from flask import request\n",
    "from datetime import datetime\n",
    "\n",
    "\n",
    "\n",
    "app=Flask(__name__)\n",
    "\n",
    "app.config['MYSQL_HOST'] = 'localhost'\n",
    "app.config['MYSQL_USER'] = 'root'\n",
    "app.config['MYSQL_PASSWORD'] = ''\n",
    "app.config['MYSQL_DB'] = 'abdia_bon'\n",
    "\n",
    "mysql=MySQL(app)\n",
    "\n",
    "@app.route('/')#index\n",
    "def index():\n",
    "    return render_template(\"pages/inscription.html\")\n",
    "\n",
    "@app.route('/visualisation')#index\n",
    "def interface():\n",
    "    return render_template('pages/interface.html')\n",
    "\n",
    "@app.route('/inscrit/', methods = ['GET', 'POST'])\n",
    "def inscrit():\n",
    "    pseudo = request.form['pseudo']\n",
    "    adresse_ip = request.remote_addr\n",
    "    age=request.form['age']\n",
    "    genre=request.form['genre']\n",
    "    pays=request.form['pays']\n",
    "    date=str(datetime.today().strftime('%Y-%m-%d'))\n",
    "    \n",
    "    print(pays)\n",
    "    cur = mysql.connection.cursor()\n",
    "    \n",
    "    try:\n",
    "        strSQL = \" SELECT `procédure_vote`('\"+pseudo+\"', '\"+adresse_ip+\"', '\"+age+\"', 'senegal', '\"+genre+\"', '1',  '1', '\"+date+\"') AS `procédure_vote`;\"\n",
    "        cur.execute(strSQL)\n",
    "        mysql.connection.commit()\n",
    "        fetchdata = cur.fetchall()\n",
    "        cur.close()\n",
    "        retour=fetchdata[0][0]\n",
    "        print(retour)\n",
    "    finally:\n",
    "        cur.close()\n",
    "    return render_template(\"pages/inscription.html\", content = retour )\n",
    "\n",
    "\n",
    "if __name__=='__main__':\n",
    "    app.run( port=3309, debug=False)"
   ]
  },
  {
   "cell_type": "code",
   "execution_count": null,
   "metadata": {},
   "outputs": [],
   "source": [
    "mdp_test=(('aaaa66',),)\n",
    "print(mdp_test[0][0])"
   ]
  },
  {
   "cell_type": "code",
   "execution_count": null,
   "metadata": {},
   "outputs": [],
   "source": []
  },
  {
   "cell_type": "code",
   "execution_count": 5,
   "metadata": {},
   "outputs": [
    {
     "data": {
      "text/plain": [
       "'2021-03-23'"
      ]
     },
     "execution_count": 5,
     "metadata": {},
     "output_type": "execute_result"
    }
   ],
   "source": [
    "\n",
    "str(datetime.today().strftime('%Y-%m-%d'))"
   ]
  },
  {
   "cell_type": "code",
   "execution_count": null,
   "metadata": {},
   "outputs": [],
   "source": []
  },
  {
   "cell_type": "code",
   "execution_count": null,
   "metadata": {},
   "outputs": [],
   "source": []
  }
 ],
 "metadata": {
  "kernelspec": {
   "display_name": "Python 3",
   "language": "python",
   "name": "python3"
  },
  "language_info": {
   "codemirror_mode": {
    "name": "ipython",
    "version": 3
   },
   "file_extension": ".py",
   "mimetype": "text/x-python",
   "name": "python",
   "nbconvert_exporter": "python",
   "pygments_lexer": "ipython3",
   "version": "3.8.5"
  }
 },
 "nbformat": 4,
 "nbformat_minor": 4
}
