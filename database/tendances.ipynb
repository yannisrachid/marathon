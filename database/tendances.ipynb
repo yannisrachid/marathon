{
 "cells": [
  {
   "cell_type": "code",
   "execution_count": 123,
   "metadata": {},
   "outputs": [],
   "source": [
    "import mysql.connector\n",
    "from datetime import datetime\n",
    "import mysql.connector\n",
    "import pandas as pd\n",
    "from math import *\n",
    "import numpy as np"
   ]
  },
  {
   "cell_type": "code",
   "execution_count": 2,
   "metadata": {},
   "outputs": [],
   "source": [
    "# Faire moyenne des votes influenceurs dans la journée\n",
    "# Test de moyenne théorique : moy - moy tout le monde / ecart type/racine(n)\n",
    "# si supérieur à p-value -> influenceur est chaud\n",
    "# par catégorie"
   ]
  },
  {
   "cell_type": "markdown",
   "metadata": {},
   "source": [
    "Get today's date"
   ]
  },
  {
   "cell_type": "code",
   "execution_count": 11,
   "metadata": {},
   "outputs": [
    {
     "name": "stdout",
     "output_type": "stream",
     "text": [
      "2021-03-24\n"
     ]
    }
   ],
   "source": [
    "date = datetime.today().strftime('%Y-%m-%d')\n",
    "print(date)"
   ]
  },
  {
   "cell_type": "markdown",
   "metadata": {},
   "source": [
    "Get number of today's votes for all influenceurs"
   ]
  },
  {
   "cell_type": "code",
   "execution_count": 13,
   "metadata": {},
   "outputs": [
    {
     "name": "stdout",
     "output_type": "stream",
     "text": [
      "SELECT influenceur.id_influenceur, influenceur.nom_influenceur, COUNT(voter.id_vote) FROM influenceur, voter WHERE voter.id_influenceur=influenceur.id_influenceur AND voter.date_vote=\"2021-03-24\" GROUP BY voter.id_influenceur\n"
     ]
    }
   ],
   "source": [
    "print(\"SELECT influenceur.id_influenceur, influenceur.nom_influenceur, COUNT(voter.id_vote) FROM influenceur, voter WHERE voter.id_influenceur=influenceur.id_influenceur AND voter.date_vote=\\\"\"+date+\"\\\" GROUP BY voter.id_influenceur\")"
   ]
  },
  {
   "cell_type": "code",
   "execution_count": 86,
   "metadata": {},
   "outputs": [],
   "source": [
    "nb_today=[]\n",
    "\n",
    "config = {\n",
    "        'user': 'root',\n",
    "        'password': '',\n",
    "        'host': 'localhost',\n",
    "        'database': 'abdia_bon'\n",
    "    }\n",
    "\n",
    "cnx = mysql.connector.connect(**config)\n",
    "cursor = cnx.cursor()\n",
    "\n",
    "select_vote = (\"SELECT influenceur.id_influenceur, influenceur.nom_influenceur, influenceur.id_categorie, COUNT(voter.id_vote) FROM influenceur, voter WHERE voter.id_influenceur=influenceur.id_influenceur AND voter.date_vote=\\\"\"+date+\"\\\" GROUP BY voter.id_influenceur\")\n",
    "cursor.execute(select_vote)\n",
    "    \n",
    "result = cursor.fetchall()\n",
    "\n",
    "for ligne in result:\n",
    "    nb_today.append(ligne)"
   ]
  },
  {
   "cell_type": "code",
   "execution_count": 87,
   "metadata": {},
   "outputs": [],
   "source": [
    "todays = pd.DataFrame(nb_today, columns=['id_influenceur', 'nom_influenceur', 'id_categorie', 'nb_votes'])"
   ]
  },
  {
   "cell_type": "code",
   "execution_count": 88,
   "metadata": {},
   "outputs": [
    {
     "data": {
      "text/html": [
       "<div>\n",
       "<style scoped>\n",
       "    .dataframe tbody tr th:only-of-type {\n",
       "        vertical-align: middle;\n",
       "    }\n",
       "\n",
       "    .dataframe tbody tr th {\n",
       "        vertical-align: top;\n",
       "    }\n",
       "\n",
       "    .dataframe thead th {\n",
       "        text-align: right;\n",
       "    }\n",
       "</style>\n",
       "<table border=\"1\" class=\"dataframe\">\n",
       "  <thead>\n",
       "    <tr style=\"text-align: right;\">\n",
       "      <th></th>\n",
       "      <th>id_influenceur</th>\n",
       "      <th>nom_influenceur</th>\n",
       "      <th>id_categorie</th>\n",
       "      <th>nb_votes</th>\n",
       "    </tr>\n",
       "  </thead>\n",
       "  <tbody>\n",
       "    <tr>\n",
       "      <th>0</th>\n",
       "      <td>1</td>\n",
       "      <td>DUDE THAT COOKZ</td>\n",
       "      <td>5</td>\n",
       "      <td>13</td>\n",
       "    </tr>\n",
       "    <tr>\n",
       "      <th>1</th>\n",
       "      <td>2</td>\n",
       "      <td>PAPA SCRIPT</td>\n",
       "      <td>10</td>\n",
       "      <td>20</td>\n",
       "    </tr>\n",
       "    <tr>\n",
       "      <th>2</th>\n",
       "      <td>3</td>\n",
       "      <td>MICHAEL BLACKSON</td>\n",
       "      <td>6</td>\n",
       "      <td>24</td>\n",
       "    </tr>\n",
       "    <tr>\n",
       "      <th>3</th>\n",
       "      <td>4</td>\n",
       "      <td>INVESTIR AU PAYS</td>\n",
       "      <td>7</td>\n",
       "      <td>20</td>\n",
       "    </tr>\n",
       "    <tr>\n",
       "      <th>4</th>\n",
       "      <td>5</td>\n",
       "      <td>WENDY SHAY</td>\n",
       "      <td>9</td>\n",
       "      <td>25</td>\n",
       "    </tr>\n",
       "  </tbody>\n",
       "</table>\n",
       "</div>"
      ],
      "text/plain": [
       "   id_influenceur   nom_influenceur  id_categorie  nb_votes\n",
       "0               1   DUDE THAT COOKZ             5        13\n",
       "1               2       PAPA SCRIPT            10        20\n",
       "2               3  MICHAEL BLACKSON             6        24\n",
       "3               4  INVESTIR AU PAYS             7        20\n",
       "4               5        WENDY SHAY             9        25"
      ]
     },
     "execution_count": 88,
     "metadata": {},
     "output_type": "execute_result"
    }
   ],
   "source": [
    "todays.head()"
   ]
  },
  {
   "cell_type": "code",
   "execution_count": 62,
   "metadata": {},
   "outputs": [
    {
     "name": "stdout",
     "output_type": "stream",
     "text": [
      "SELECT categorie.id_categorie, categorie.nom_categorie, COUNT(voter.id_vote) FROM influenceur, voter, categorie WHERE voter.id_influenceur=influenceur.id_influenceur AND categorie.id_categorie=influenceur.id_categorie AND voter.date_vote=\"2021-03-24\" GROUP BY influenceur.id_categorie\n"
     ]
    }
   ],
   "source": [
    "print(\"SELECT categorie.id_categorie, categorie.nom_categorie, COUNT(voter.id_vote) FROM influenceur, voter, categorie WHERE voter.id_influenceur=influenceur.id_influenceur AND categorie.id_categorie=influenceur.id_categorie AND voter.date_vote=\\\"\"+date+\"\\\" GROUP BY influenceur.id_categorie\")"
   ]
  },
  {
   "cell_type": "code",
   "execution_count": 76,
   "metadata": {},
   "outputs": [],
   "source": [
    "nb_today_cat=[]\n",
    "\n",
    "config = {\n",
    "        'user': 'root',\n",
    "        'password': '',\n",
    "        'host': 'localhost',\n",
    "        'database': 'abdia_bon'\n",
    "    }\n",
    "\n",
    "cnx = mysql.connector.connect(**config)\n",
    "cursor = cnx.cursor()\n",
    "\n",
    "select_vote_cat = (\"SELECT categorie.id_categorie, categorie.nom_categorie, COUNT(voter.id_vote) FROM influenceur, voter, categorie WHERE voter.id_influenceur=influenceur.id_influenceur AND categorie.id_categorie=influenceur.id_categorie AND voter.date_vote=\\\"\"+date+\"\\\" GROUP BY influenceur.id_categorie\")\n",
    "cursor.execute(select_vote_cat)\n",
    "    \n",
    "result = cursor.fetchall()\n",
    "\n",
    "for ligne in result:\n",
    "    nb_today_cat.append(ligne)"
   ]
  },
  {
   "cell_type": "code",
   "execution_count": 80,
   "metadata": {},
   "outputs": [],
   "source": [
    "todays_cat = pd.DataFrame(nb_today_cat, columns=['id_categorie', 'nom_categorie', 'nb_votes'])"
   ]
  },
  {
   "cell_type": "code",
   "execution_count": 81,
   "metadata": {},
   "outputs": [
    {
     "data": {
      "text/html": [
       "<div>\n",
       "<style scoped>\n",
       "    .dataframe tbody tr th:only-of-type {\n",
       "        vertical-align: middle;\n",
       "    }\n",
       "\n",
       "    .dataframe tbody tr th {\n",
       "        vertical-align: top;\n",
       "    }\n",
       "\n",
       "    .dataframe thead th {\n",
       "        text-align: right;\n",
       "    }\n",
       "</style>\n",
       "<table border=\"1\" class=\"dataframe\">\n",
       "  <thead>\n",
       "    <tr style=\"text-align: right;\">\n",
       "      <th></th>\n",
       "      <th>id_categorie</th>\n",
       "      <th>nom_categorie</th>\n",
       "      <th>nb_votes</th>\n",
       "    </tr>\n",
       "  </thead>\n",
       "  <tbody>\n",
       "    <tr>\n",
       "      <th>0</th>\n",
       "      <td>1</td>\n",
       "      <td>Travel</td>\n",
       "      <td>121</td>\n",
       "    </tr>\n",
       "    <tr>\n",
       "      <th>1</th>\n",
       "      <td>2</td>\n",
       "      <td>Lifestyle</td>\n",
       "      <td>108</td>\n",
       "    </tr>\n",
       "    <tr>\n",
       "      <th>2</th>\n",
       "      <td>3</td>\n",
       "      <td>Fashion Homme</td>\n",
       "      <td>124</td>\n",
       "    </tr>\n",
       "    <tr>\n",
       "      <th>3</th>\n",
       "      <td>4</td>\n",
       "      <td>Fashion Femme</td>\n",
       "      <td>133</td>\n",
       "    </tr>\n",
       "    <tr>\n",
       "      <th>4</th>\n",
       "      <td>5</td>\n",
       "      <td>Food</td>\n",
       "      <td>123</td>\n",
       "    </tr>\n",
       "    <tr>\n",
       "      <th>5</th>\n",
       "      <td>6</td>\n",
       "      <td>Humour</td>\n",
       "      <td>143</td>\n",
       "    </tr>\n",
       "    <tr>\n",
       "      <th>6</th>\n",
       "      <td>7</td>\n",
       "      <td>Media d'influence</td>\n",
       "      <td>118</td>\n",
       "    </tr>\n",
       "    <tr>\n",
       "      <th>7</th>\n",
       "      <td>8</td>\n",
       "      <td>Chanteurs</td>\n",
       "      <td>126</td>\n",
       "    </tr>\n",
       "    <tr>\n",
       "      <th>8</th>\n",
       "      <td>9</td>\n",
       "      <td>Chanteuses</td>\n",
       "      <td>137</td>\n",
       "    </tr>\n",
       "    <tr>\n",
       "      <th>9</th>\n",
       "      <td>10</td>\n",
       "      <td>Danseurs</td>\n",
       "      <td>146</td>\n",
       "    </tr>\n",
       "    <tr>\n",
       "      <th>10</th>\n",
       "      <td>11</td>\n",
       "      <td>Influenceur espoir</td>\n",
       "      <td>125</td>\n",
       "    </tr>\n",
       "    <tr>\n",
       "      <th>11</th>\n",
       "      <td>12</td>\n",
       "      <td>Figure Entrepreneur</td>\n",
       "      <td>128</td>\n",
       "    </tr>\n",
       "    <tr>\n",
       "      <th>12</th>\n",
       "      <td>13</td>\n",
       "      <td>Award d'honneur</td>\n",
       "      <td>139</td>\n",
       "    </tr>\n",
       "  </tbody>\n",
       "</table>\n",
       "</div>"
      ],
      "text/plain": [
       "    id_categorie        nom_categorie  nb_votes\n",
       "0              1               Travel       121\n",
       "1              2            Lifestyle       108\n",
       "2              3        Fashion Homme       124\n",
       "3              4        Fashion Femme       133\n",
       "4              5                 Food       123\n",
       "5              6               Humour       143\n",
       "6              7    Media d'influence       118\n",
       "7              8            Chanteurs       126\n",
       "8              9           Chanteuses       137\n",
       "9             10             Danseurs       146\n",
       "10            11   Influenceur espoir       125\n",
       "11            12  Figure Entrepreneur       128\n",
       "12            13      Award d'honneur       139"
      ]
     },
     "execution_count": 81,
     "metadata": {},
     "output_type": "execute_result"
    }
   ],
   "source": [
    "todays_cat"
   ]
  },
  {
   "cell_type": "code",
   "execution_count": 94,
   "metadata": {},
   "outputs": [
    {
     "data": {
      "text/plain": [
       "True"
      ]
     },
     "execution_count": 94,
     "metadata": {},
     "output_type": "execute_result"
    }
   ],
   "source": [
    "todays.iloc[0, 2] == todays_cat.iloc [4,0]"
   ]
  },
  {
   "cell_type": "code",
   "execution_count": 98,
   "metadata": {},
   "outputs": [],
   "source": [
    "list_votes_cat=[]\n",
    "for i in range(0, len(todays)):\n",
    "    for j in range (0, len(todays_cat)):\n",
    "        if todays.iloc[i, 2] == todays_cat.iloc[j,0]:\n",
    "            list_votes_cat.append(todays_cat.iloc[j,2])"
   ]
  },
  {
   "cell_type": "code",
   "execution_count": 100,
   "metadata": {},
   "outputs": [
    {
     "data": {
      "text/plain": [
       "78"
      ]
     },
     "execution_count": 100,
     "metadata": {},
     "output_type": "execute_result"
    }
   ],
   "source": [
    "len(list_votes_cat)"
   ]
  },
  {
   "cell_type": "code",
   "execution_count": 101,
   "metadata": {},
   "outputs": [],
   "source": [
    "todays = todays.assign(votes_cat = list_votes_cat)"
   ]
  },
  {
   "cell_type": "code",
   "execution_count": 110,
   "metadata": {
    "scrolled": true
   },
   "outputs": [
    {
     "data": {
      "text/html": [
       "<div>\n",
       "<style scoped>\n",
       "    .dataframe tbody tr th:only-of-type {\n",
       "        vertical-align: middle;\n",
       "    }\n",
       "\n",
       "    .dataframe tbody tr th {\n",
       "        vertical-align: top;\n",
       "    }\n",
       "\n",
       "    .dataframe thead th {\n",
       "        text-align: right;\n",
       "    }\n",
       "</style>\n",
       "<table border=\"1\" class=\"dataframe\">\n",
       "  <thead>\n",
       "    <tr style=\"text-align: right;\">\n",
       "      <th></th>\n",
       "      <th>id_influenceur</th>\n",
       "      <th>nom_influenceur</th>\n",
       "      <th>id_categorie</th>\n",
       "      <th>nb_votes</th>\n",
       "      <th>votes_cat</th>\n",
       "      <th>moyenne</th>\n",
       "    </tr>\n",
       "  </thead>\n",
       "  <tbody>\n",
       "    <tr>\n",
       "      <th>0</th>\n",
       "      <td>1</td>\n",
       "      <td>DUDE THAT COOKZ</td>\n",
       "      <td>5</td>\n",
       "      <td>13</td>\n",
       "      <td>123</td>\n",
       "      <td>0.105691</td>\n",
       "    </tr>\n",
       "    <tr>\n",
       "      <th>1</th>\n",
       "      <td>2</td>\n",
       "      <td>PAPA SCRIPT</td>\n",
       "      <td>10</td>\n",
       "      <td>20</td>\n",
       "      <td>146</td>\n",
       "      <td>0.136986</td>\n",
       "    </tr>\n",
       "    <tr>\n",
       "      <th>2</th>\n",
       "      <td>3</td>\n",
       "      <td>MICHAEL BLACKSON</td>\n",
       "      <td>6</td>\n",
       "      <td>24</td>\n",
       "      <td>143</td>\n",
       "      <td>0.167832</td>\n",
       "    </tr>\n",
       "    <tr>\n",
       "      <th>3</th>\n",
       "      <td>4</td>\n",
       "      <td>INVESTIR AU PAYS</td>\n",
       "      <td>7</td>\n",
       "      <td>20</td>\n",
       "      <td>118</td>\n",
       "      <td>0.169492</td>\n",
       "    </tr>\n",
       "    <tr>\n",
       "      <th>4</th>\n",
       "      <td>5</td>\n",
       "      <td>WENDY SHAY</td>\n",
       "      <td>9</td>\n",
       "      <td>25</td>\n",
       "      <td>137</td>\n",
       "      <td>0.182482</td>\n",
       "    </tr>\n",
       "  </tbody>\n",
       "</table>\n",
       "</div>"
      ],
      "text/plain": [
       "   id_influenceur   nom_influenceur  id_categorie  nb_votes  votes_cat  \\\n",
       "0               1   DUDE THAT COOKZ             5        13        123   \n",
       "1               2       PAPA SCRIPT            10        20        146   \n",
       "2               3  MICHAEL BLACKSON             6        24        143   \n",
       "3               4  INVESTIR AU PAYS             7        20        118   \n",
       "4               5        WENDY SHAY             9        25        137   \n",
       "\n",
       "    moyenne  \n",
       "0  0.105691  \n",
       "1  0.136986  \n",
       "2  0.167832  \n",
       "3  0.169492  \n",
       "4  0.182482  "
      ]
     },
     "execution_count": 110,
     "metadata": {},
     "output_type": "execute_result"
    }
   ],
   "source": [
    "todays.head()"
   ]
  },
  {
   "cell_type": "code",
   "execution_count": 145,
   "metadata": {},
   "outputs": [],
   "source": [
    "temp = todays[['id_categorie', 'nb_votes']]"
   ]
  },
  {
   "cell_type": "code",
   "execution_count": 148,
   "metadata": {},
   "outputs": [
    {
     "data": {
      "text/html": [
       "<div>\n",
       "<style scoped>\n",
       "    .dataframe tbody tr th:only-of-type {\n",
       "        vertical-align: middle;\n",
       "    }\n",
       "\n",
       "    .dataframe tbody tr th {\n",
       "        vertical-align: top;\n",
       "    }\n",
       "\n",
       "    .dataframe thead th {\n",
       "        text-align: right;\n",
       "    }\n",
       "</style>\n",
       "<table border=\"1\" class=\"dataframe\">\n",
       "  <thead>\n",
       "    <tr style=\"text-align: right;\">\n",
       "      <th></th>\n",
       "      <th>id_categorie</th>\n",
       "      <th>nb_votes</th>\n",
       "    </tr>\n",
       "  </thead>\n",
       "  <tbody>\n",
       "    <tr>\n",
       "      <th>0</th>\n",
       "      <td>5</td>\n",
       "      <td>13</td>\n",
       "    </tr>\n",
       "    <tr>\n",
       "      <th>1</th>\n",
       "      <td>10</td>\n",
       "      <td>20</td>\n",
       "    </tr>\n",
       "    <tr>\n",
       "      <th>2</th>\n",
       "      <td>6</td>\n",
       "      <td>24</td>\n",
       "    </tr>\n",
       "    <tr>\n",
       "      <th>3</th>\n",
       "      <td>7</td>\n",
       "      <td>20</td>\n",
       "    </tr>\n",
       "    <tr>\n",
       "      <th>4</th>\n",
       "      <td>9</td>\n",
       "      <td>25</td>\n",
       "    </tr>\n",
       "  </tbody>\n",
       "</table>\n",
       "</div>"
      ],
      "text/plain": [
       "   id_categorie  nb_votes\n",
       "0             5        13\n",
       "1            10        20\n",
       "2             6        24\n",
       "3             7        20\n",
       "4             9        25"
      ]
     },
     "execution_count": 148,
     "metadata": {},
     "output_type": "execute_result"
    }
   ],
   "source": [
    "temp.head()"
   ]
  },
  {
   "cell_type": "code",
   "execution_count": 151,
   "metadata": {},
   "outputs": [],
   "source": [
    "grouped_data = temp.groupby('id_categorie')"
   ]
  },
  {
   "cell_type": "code",
   "execution_count": 152,
   "metadata": {},
   "outputs": [
    {
     "name": "stdout",
     "output_type": "stream",
     "text": [
      "1\n",
      "2\n",
      "3\n",
      "4\n",
      "5\n",
      "6\n",
      "7\n",
      "8\n",
      "9\n",
      "10\n",
      "11\n",
      "12\n",
      "13\n"
     ]
    }
   ],
   "source": [
    "for group in grouped_data.groups:\n",
    "  print(group)"
   ]
  },
  {
   "cell_type": "code",
   "execution_count": 198,
   "metadata": {},
   "outputs": [],
   "source": [
    "moy_cat=temp.groupby('id_categorie').mean()['nb_votes']"
   ]
  },
  {
   "cell_type": "code",
   "execution_count": 199,
   "metadata": {},
   "outputs": [
    {
     "data": {
      "text/plain": [
       "id_categorie\n",
       "1     20.166667\n",
       "2     18.000000\n",
       "3     20.666667\n",
       "4     22.166667\n",
       "5     20.500000\n",
       "6     23.833333\n",
       "7     19.666667\n",
       "8     21.000000\n",
       "9     22.833333\n",
       "10    24.333333\n",
       "11    20.833333\n",
       "12    21.333333\n",
       "13    23.166667\n",
       "Name: nb_votes, dtype: float64"
      ]
     },
     "execution_count": 199,
     "metadata": {},
     "output_type": "execute_result"
    }
   ],
   "source": [
    "moy_cat"
   ]
  },
  {
   "cell_type": "code",
   "execution_count": 200,
   "metadata": {},
   "outputs": [],
   "source": [
    "ecart_type=temp.groupby('id_categorie').std()['nb_votes']"
   ]
  },
  {
   "cell_type": "code",
   "execution_count": 201,
   "metadata": {
    "scrolled": true
   },
   "outputs": [
    {
     "data": {
      "text/plain": [
       "id_categorie\n",
       "1     6.337718\n",
       "2     4.381780\n",
       "3     4.273952\n",
       "4     4.996666\n",
       "5     6.655825\n",
       "6     3.430258\n",
       "7     2.732520\n",
       "8     3.033150\n",
       "9     2.316607\n",
       "10    6.153590\n",
       "11    4.445972\n",
       "12    4.966555\n",
       "13    3.430258\n",
       "Name: nb_votes, dtype: float64"
      ]
     },
     "execution_count": 201,
     "metadata": {},
     "output_type": "execute_result"
    }
   ],
   "source": [
    "ecart_type"
   ]
  },
  {
   "cell_type": "code",
   "execution_count": 202,
   "metadata": {},
   "outputs": [],
   "source": [
    "list_moy_cat = list(moy_cat)"
   ]
  },
  {
   "cell_type": "code",
   "execution_count": 203,
   "metadata": {},
   "outputs": [
    {
     "data": {
      "text/plain": [
       "[20.166666666666668,\n",
       " 18.0,\n",
       " 20.666666666666668,\n",
       " 22.166666666666668,\n",
       " 20.5,\n",
       " 23.833333333333332,\n",
       " 19.666666666666668,\n",
       " 21.0,\n",
       " 22.833333333333332,\n",
       " 24.333333333333332,\n",
       " 20.833333333333332,\n",
       " 21.333333333333332,\n",
       " 23.166666666666668]"
      ]
     },
     "execution_count": 203,
     "metadata": {},
     "output_type": "execute_result"
    }
   ],
   "source": [
    "list_moy_cat"
   ]
  },
  {
   "cell_type": "code",
   "execution_count": 184,
   "metadata": {},
   "outputs": [
    {
     "data": {
      "text/plain": [
       "20.5"
      ]
     },
     "execution_count": 184,
     "metadata": {},
     "output_type": "execute_result"
    }
   ],
   "source": [
    "list_moy_cat[4]"
   ]
  },
  {
   "cell_type": "code",
   "execution_count": 204,
   "metadata": {},
   "outputs": [],
   "source": [
    "list_ecart_type = list(ecart_type)"
   ]
  },
  {
   "cell_type": "code",
   "execution_count": 205,
   "metadata": {},
   "outputs": [],
   "source": [
    "list_moy = []"
   ]
  },
  {
   "cell_type": "code",
   "execution_count": 206,
   "metadata": {},
   "outputs": [],
   "source": [
    "for i in range(todays.shape[0]):\n",
    "    x = todays.loc[i, 'id_categorie']-1\n",
    "    #print(x)\n",
    "    list_moy.append(list_moy_cat[x])"
   ]
  },
  {
   "cell_type": "code",
   "execution_count": 207,
   "metadata": {
    "scrolled": true
   },
   "outputs": [
    {
     "data": {
      "text/plain": [
       "[20.5,\n",
       " 24.333333333333332,\n",
       " 23.833333333333332,\n",
       " 19.666666666666668,\n",
       " 22.833333333333332,\n",
       " 21.333333333333332,\n",
       " 20.166666666666668,\n",
       " 22.166666666666668,\n",
       " 22.166666666666668,\n",
       " 20.5,\n",
       " 20.166666666666668,\n",
       " 23.166666666666668,\n",
       " 18.0,\n",
       " 21.0,\n",
       " 20.666666666666668,\n",
       " 20.5,\n",
       " 21.0,\n",
       " 20.666666666666668,\n",
       " 24.333333333333332,\n",
       " 21.333333333333332,\n",
       " 18.0,\n",
       " 20.166666666666668,\n",
       " 20.666666666666668,\n",
       " 18.0,\n",
       " 18.0,\n",
       " 21.0,\n",
       " 20.5,\n",
       " 20.166666666666668,\n",
       " 20.666666666666668,\n",
       " 22.166666666666668,\n",
       " 22.166666666666668,\n",
       " 22.166666666666668,\n",
       " 23.833333333333332,\n",
       " 20.666666666666668,\n",
       " 20.166666666666668,\n",
       " 21.0,\n",
       " 22.833333333333332,\n",
       " 18.0,\n",
       " 20.5,\n",
       " 20.833333333333332,\n",
       " 22.833333333333332,\n",
       " 22.166666666666668,\n",
       " 24.333333333333332,\n",
       " 21.333333333333332,\n",
       " 22.833333333333332,\n",
       " 20.5,\n",
       " 24.333333333333332,\n",
       " 20.833333333333332,\n",
       " 20.666666666666668,\n",
       " 18.0,\n",
       " 21.0,\n",
       " 21.333333333333332,\n",
       " 21.333333333333332,\n",
       " 19.666666666666668,\n",
       " 22.833333333333332,\n",
       " 20.166666666666668,\n",
       " 19.666666666666668,\n",
       " 21.0,\n",
       " 22.833333333333332,\n",
       " 24.333333333333332,\n",
       " 21.333333333333332,\n",
       " 19.666666666666668,\n",
       " 24.333333333333332,\n",
       " 19.666666666666668,\n",
       " 23.166666666666668,\n",
       " 23.166666666666668,\n",
       " 23.833333333333332,\n",
       " 23.833333333333332,\n",
       " 23.833333333333332,\n",
       " 20.833333333333332,\n",
       " 20.833333333333332,\n",
       " 23.166666666666668,\n",
       " 23.166666666666668,\n",
       " 23.166666666666668,\n",
       " 23.833333333333332,\n",
       " 20.833333333333332,\n",
       " 20.833333333333332,\n",
       " 19.666666666666668]"
      ]
     },
     "execution_count": 207,
     "metadata": {},
     "output_type": "execute_result"
    }
   ],
   "source": [
    "list_moy"
   ]
  },
  {
   "cell_type": "code",
   "execution_count": 208,
   "metadata": {},
   "outputs": [],
   "source": [
    "list_ecart_type = list(ecart_type)\n",
    "list_ec_cat=[]"
   ]
  },
  {
   "cell_type": "code",
   "execution_count": 209,
   "metadata": {},
   "outputs": [],
   "source": [
    "for i in range(todays.shape[0]):\n",
    "    x = todays.loc[i, 'id_categorie']-1\n",
    "    #print(x)\n",
    "    list_ec_cat.append(list_ecart_type[x])"
   ]
  },
  {
   "cell_type": "code",
   "execution_count": 210,
   "metadata": {},
   "outputs": [
    {
     "data": {
      "text/plain": [
       "[6.6558245169174945,\n",
       " 6.153589738247641,\n",
       " 3.4302575219167823,\n",
       " 2.7325202042558927,\n",
       " 2.316606713852541,\n",
       " 4.966554808583779,\n",
       " 6.3377177806105145,\n",
       " 4.996665554814197,\n",
       " 4.996665554814197,\n",
       " 6.6558245169174945,\n",
       " 6.3377177806105145,\n",
       " 3.4302575219167823,\n",
       " 4.381780460041329,\n",
       " 3.03315017762062,\n",
       " 4.273952113286562,\n",
       " 6.6558245169174945,\n",
       " 3.03315017762062,\n",
       " 4.273952113286562,\n",
       " 6.153589738247641,\n",
       " 4.966554808583779,\n",
       " 4.381780460041329,\n",
       " 6.3377177806105145,\n",
       " 4.273952113286562,\n",
       " 4.381780460041329,\n",
       " 4.381780460041329,\n",
       " 3.03315017762062,\n",
       " 6.6558245169174945,\n",
       " 6.3377177806105145,\n",
       " 4.273952113286562,\n",
       " 4.996665554814197,\n",
       " 4.996665554814197,\n",
       " 4.996665554814197,\n",
       " 3.4302575219167823,\n",
       " 4.273952113286562,\n",
       " 6.3377177806105145,\n",
       " 3.03315017762062,\n",
       " 2.316606713852541,\n",
       " 4.381780460041329,\n",
       " 6.6558245169174945,\n",
       " 4.445971959725643,\n",
       " 2.316606713852541,\n",
       " 4.996665554814197,\n",
       " 6.153589738247641,\n",
       " 4.966554808583779,\n",
       " 2.316606713852541,\n",
       " 6.6558245169174945,\n",
       " 6.153589738247641,\n",
       " 4.445971959725643,\n",
       " 4.273952113286562,\n",
       " 4.381780460041329,\n",
       " 3.03315017762062,\n",
       " 4.966554808583779,\n",
       " 4.966554808583779,\n",
       " 2.7325202042558927,\n",
       " 2.316606713852541,\n",
       " 6.3377177806105145,\n",
       " 2.7325202042558927,\n",
       " 3.03315017762062,\n",
       " 2.316606713852541,\n",
       " 6.153589738247641,\n",
       " 4.966554808583779,\n",
       " 2.7325202042558927,\n",
       " 6.153589738247641,\n",
       " 2.7325202042558927,\n",
       " 3.4302575219167823,\n",
       " 3.4302575219167823,\n",
       " 3.4302575219167823,\n",
       " 3.4302575219167823,\n",
       " 3.4302575219167823,\n",
       " 4.445971959725643,\n",
       " 4.445971959725643,\n",
       " 3.4302575219167823,\n",
       " 3.4302575219167823,\n",
       " 3.4302575219167823,\n",
       " 3.4302575219167823,\n",
       " 4.445971959725643,\n",
       " 4.445971959725643,\n",
       " 2.7325202042558927]"
      ]
     },
     "execution_count": 210,
     "metadata": {},
     "output_type": "execute_result"
    }
   ],
   "source": [
    "list_ec_cat"
   ]
  },
  {
   "cell_type": "code",
   "execution_count": 211,
   "metadata": {},
   "outputs": [
    {
     "data": {
      "text/plain": [
       "78"
      ]
     },
     "execution_count": 211,
     "metadata": {},
     "output_type": "execute_result"
    }
   ],
   "source": [
    "len(list_moy)"
   ]
  },
  {
   "cell_type": "code",
   "execution_count": 212,
   "metadata": {},
   "outputs": [],
   "source": [
    "todays['moy_cat']=list_moy"
   ]
  },
  {
   "cell_type": "code",
   "execution_count": 213,
   "metadata": {},
   "outputs": [],
   "source": [
    "todays['ec_cat']=list_ec_cat"
   ]
  },
  {
   "cell_type": "code",
   "execution_count": 214,
   "metadata": {
    "scrolled": false
   },
   "outputs": [
    {
     "data": {
      "text/html": [
       "<div>\n",
       "<style scoped>\n",
       "    .dataframe tbody tr th:only-of-type {\n",
       "        vertical-align: middle;\n",
       "    }\n",
       "\n",
       "    .dataframe tbody tr th {\n",
       "        vertical-align: top;\n",
       "    }\n",
       "\n",
       "    .dataframe thead th {\n",
       "        text-align: right;\n",
       "    }\n",
       "</style>\n",
       "<table border=\"1\" class=\"dataframe\">\n",
       "  <thead>\n",
       "    <tr style=\"text-align: right;\">\n",
       "      <th></th>\n",
       "      <th>id_influenceur</th>\n",
       "      <th>nom_influenceur</th>\n",
       "      <th>id_categorie</th>\n",
       "      <th>nb_votes</th>\n",
       "      <th>votes_cat</th>\n",
       "      <th>moyenne</th>\n",
       "      <th>moy_cat</th>\n",
       "      <th>ec_cat</th>\n",
       "    </tr>\n",
       "  </thead>\n",
       "  <tbody>\n",
       "    <tr>\n",
       "      <th>0</th>\n",
       "      <td>1</td>\n",
       "      <td>DUDE THAT COOKZ</td>\n",
       "      <td>5</td>\n",
       "      <td>13</td>\n",
       "      <td>123</td>\n",
       "      <td>21.423077</td>\n",
       "      <td>20.500000</td>\n",
       "      <td>6.655825</td>\n",
       "    </tr>\n",
       "    <tr>\n",
       "      <th>1</th>\n",
       "      <td>2</td>\n",
       "      <td>PAPA SCRIPT</td>\n",
       "      <td>10</td>\n",
       "      <td>20</td>\n",
       "      <td>146</td>\n",
       "      <td>21.423077</td>\n",
       "      <td>24.333333</td>\n",
       "      <td>6.153590</td>\n",
       "    </tr>\n",
       "    <tr>\n",
       "      <th>2</th>\n",
       "      <td>3</td>\n",
       "      <td>MICHAEL BLACKSON</td>\n",
       "      <td>6</td>\n",
       "      <td>24</td>\n",
       "      <td>143</td>\n",
       "      <td>21.423077</td>\n",
       "      <td>23.833333</td>\n",
       "      <td>3.430258</td>\n",
       "    </tr>\n",
       "    <tr>\n",
       "      <th>3</th>\n",
       "      <td>4</td>\n",
       "      <td>INVESTIR AU PAYS</td>\n",
       "      <td>7</td>\n",
       "      <td>20</td>\n",
       "      <td>118</td>\n",
       "      <td>21.423077</td>\n",
       "      <td>19.666667</td>\n",
       "      <td>2.732520</td>\n",
       "    </tr>\n",
       "    <tr>\n",
       "      <th>4</th>\n",
       "      <td>5</td>\n",
       "      <td>WENDY SHAY</td>\n",
       "      <td>9</td>\n",
       "      <td>25</td>\n",
       "      <td>137</td>\n",
       "      <td>21.423077</td>\n",
       "      <td>22.833333</td>\n",
       "      <td>2.316607</td>\n",
       "    </tr>\n",
       "  </tbody>\n",
       "</table>\n",
       "</div>"
      ],
      "text/plain": [
       "   id_influenceur   nom_influenceur  id_categorie  nb_votes  votes_cat  \\\n",
       "0               1   DUDE THAT COOKZ             5        13        123   \n",
       "1               2       PAPA SCRIPT            10        20        146   \n",
       "2               3  MICHAEL BLACKSON             6        24        143   \n",
       "3               4  INVESTIR AU PAYS             7        20        118   \n",
       "4               5        WENDY SHAY             9        25        137   \n",
       "\n",
       "     moyenne    moy_cat    ec_cat  \n",
       "0  21.423077  20.500000  6.655825  \n",
       "1  21.423077  24.333333  6.153590  \n",
       "2  21.423077  23.833333  3.430258  \n",
       "3  21.423077  19.666667  2.732520  \n",
       "4  21.423077  22.833333  2.316607  "
      ]
     },
     "execution_count": 214,
     "metadata": {},
     "output_type": "execute_result"
    }
   ],
   "source": [
    "todays.head()"
   ]
  },
  {
   "cell_type": "code",
   "execution_count": 215,
   "metadata": {},
   "outputs": [],
   "source": [
    "todays['test'] = (todays.nb_votes - todays.moy_cat)/(todays.ec_cat / np.sqrt(todays.shape[0]-1))"
   ]
  },
  {
   "cell_type": "code",
   "execution_count": 216,
   "metadata": {},
   "outputs": [
    {
     "data": {
      "text/html": [
       "<div>\n",
       "<style scoped>\n",
       "    .dataframe tbody tr th:only-of-type {\n",
       "        vertical-align: middle;\n",
       "    }\n",
       "\n",
       "    .dataframe tbody tr th {\n",
       "        vertical-align: top;\n",
       "    }\n",
       "\n",
       "    .dataframe thead th {\n",
       "        text-align: right;\n",
       "    }\n",
       "</style>\n",
       "<table border=\"1\" class=\"dataframe\">\n",
       "  <thead>\n",
       "    <tr style=\"text-align: right;\">\n",
       "      <th></th>\n",
       "      <th>id_influenceur</th>\n",
       "      <th>nom_influenceur</th>\n",
       "      <th>id_categorie</th>\n",
       "      <th>nb_votes</th>\n",
       "      <th>votes_cat</th>\n",
       "      <th>moyenne</th>\n",
       "      <th>moy_cat</th>\n",
       "      <th>ec_cat</th>\n",
       "      <th>test</th>\n",
       "    </tr>\n",
       "  </thead>\n",
       "  <tbody>\n",
       "    <tr>\n",
       "      <th>0</th>\n",
       "      <td>1</td>\n",
       "      <td>DUDE THAT COOKZ</td>\n",
       "      <td>5</td>\n",
       "      <td>13</td>\n",
       "      <td>123</td>\n",
       "      <td>21.423077</td>\n",
       "      <td>20.500000</td>\n",
       "      <td>6.655825</td>\n",
       "      <td>-9.887916</td>\n",
       "    </tr>\n",
       "    <tr>\n",
       "      <th>1</th>\n",
       "      <td>2</td>\n",
       "      <td>PAPA SCRIPT</td>\n",
       "      <td>10</td>\n",
       "      <td>20</td>\n",
       "      <td>146</td>\n",
       "      <td>21.423077</td>\n",
       "      <td>24.333333</td>\n",
       "      <td>6.153590</td>\n",
       "      <td>-6.179295</td>\n",
       "    </tr>\n",
       "    <tr>\n",
       "      <th>2</th>\n",
       "      <td>3</td>\n",
       "      <td>MICHAEL BLACKSON</td>\n",
       "      <td>6</td>\n",
       "      <td>24</td>\n",
       "      <td>143</td>\n",
       "      <td>21.423077</td>\n",
       "      <td>23.833333</td>\n",
       "      <td>3.430258</td>\n",
       "      <td>0.426351</td>\n",
       "    </tr>\n",
       "    <tr>\n",
       "      <th>3</th>\n",
       "      <td>4</td>\n",
       "      <td>INVESTIR AU PAYS</td>\n",
       "      <td>7</td>\n",
       "      <td>20</td>\n",
       "      <td>118</td>\n",
       "      <td>21.423077</td>\n",
       "      <td>19.666667</td>\n",
       "      <td>2.732520</td>\n",
       "      <td>1.070436</td>\n",
       "    </tr>\n",
       "    <tr>\n",
       "      <th>4</th>\n",
       "      <td>5</td>\n",
       "      <td>WENDY SHAY</td>\n",
       "      <td>9</td>\n",
       "      <td>25</td>\n",
       "      <td>137</td>\n",
       "      <td>21.423077</td>\n",
       "      <td>22.833333</td>\n",
       "      <td>2.316607</td>\n",
       "      <td>8.207014</td>\n",
       "    </tr>\n",
       "  </tbody>\n",
       "</table>\n",
       "</div>"
      ],
      "text/plain": [
       "   id_influenceur   nom_influenceur  id_categorie  nb_votes  votes_cat  \\\n",
       "0               1   DUDE THAT COOKZ             5        13        123   \n",
       "1               2       PAPA SCRIPT            10        20        146   \n",
       "2               3  MICHAEL BLACKSON             6        24        143   \n",
       "3               4  INVESTIR AU PAYS             7        20        118   \n",
       "4               5        WENDY SHAY             9        25        137   \n",
       "\n",
       "     moyenne    moy_cat    ec_cat      test  \n",
       "0  21.423077  20.500000  6.655825 -9.887916  \n",
       "1  21.423077  24.333333  6.153590 -6.179295  \n",
       "2  21.423077  23.833333  3.430258  0.426351  \n",
       "3  21.423077  19.666667  2.732520  1.070436  \n",
       "4  21.423077  22.833333  2.316607  8.207014  "
      ]
     },
     "execution_count": 216,
     "metadata": {},
     "output_type": "execute_result"
    }
   ],
   "source": [
    "todays.head()"
   ]
  },
  {
   "cell_type": "code",
   "execution_count": 217,
   "metadata": {},
   "outputs": [],
   "source": [
    "qnorm = 1.959964"
   ]
  },
  {
   "cell_type": "code",
   "execution_count": 219,
   "metadata": {},
   "outputs": [],
   "source": [
    "list_signif=[]"
   ]
  },
  {
   "cell_type": "code",
   "execution_count": 220,
   "metadata": {},
   "outputs": [],
   "source": [
    "for i in range(todays.shape[0]):\n",
    "    if todays.loc[i, 'test'] > qnorm:\n",
    "        list_signif.append(1)\n",
    "    elif todays.loc[i, 'test'] < -1*qnorm:\n",
    "        list_signif.append(-1)\n",
    "    else:\n",
    "        list_signif.append(0)"
   ]
  },
  {
   "cell_type": "code",
   "execution_count": 222,
   "metadata": {},
   "outputs": [],
   "source": [
    "todays['signif']=list_signif"
   ]
  },
  {
   "cell_type": "code",
   "execution_count": 226,
   "metadata": {},
   "outputs": [
    {
     "data": {
      "text/html": [
       "<div>\n",
       "<style scoped>\n",
       "    .dataframe tbody tr th:only-of-type {\n",
       "        vertical-align: middle;\n",
       "    }\n",
       "\n",
       "    .dataframe tbody tr th {\n",
       "        vertical-align: top;\n",
       "    }\n",
       "\n",
       "    .dataframe thead th {\n",
       "        text-align: right;\n",
       "    }\n",
       "</style>\n",
       "<table border=\"1\" class=\"dataframe\">\n",
       "  <thead>\n",
       "    <tr style=\"text-align: right;\">\n",
       "      <th></th>\n",
       "      <th>id_influenceur</th>\n",
       "      <th>nom_influenceur</th>\n",
       "      <th>id_categorie</th>\n",
       "      <th>nb_votes</th>\n",
       "      <th>votes_cat</th>\n",
       "      <th>moy_cat</th>\n",
       "      <th>ec_cat</th>\n",
       "      <th>test</th>\n",
       "      <th>signif</th>\n",
       "    </tr>\n",
       "  </thead>\n",
       "  <tbody>\n",
       "    <tr>\n",
       "      <th>0</th>\n",
       "      <td>1</td>\n",
       "      <td>DUDE THAT COOKZ</td>\n",
       "      <td>5</td>\n",
       "      <td>13</td>\n",
       "      <td>123</td>\n",
       "      <td>20.500000</td>\n",
       "      <td>6.655825</td>\n",
       "      <td>-9.887916</td>\n",
       "      <td>-1</td>\n",
       "    </tr>\n",
       "    <tr>\n",
       "      <th>1</th>\n",
       "      <td>2</td>\n",
       "      <td>PAPA SCRIPT</td>\n",
       "      <td>10</td>\n",
       "      <td>20</td>\n",
       "      <td>146</td>\n",
       "      <td>24.333333</td>\n",
       "      <td>6.153590</td>\n",
       "      <td>-6.179295</td>\n",
       "      <td>-1</td>\n",
       "    </tr>\n",
       "    <tr>\n",
       "      <th>2</th>\n",
       "      <td>3</td>\n",
       "      <td>MICHAEL BLACKSON</td>\n",
       "      <td>6</td>\n",
       "      <td>24</td>\n",
       "      <td>143</td>\n",
       "      <td>23.833333</td>\n",
       "      <td>3.430258</td>\n",
       "      <td>0.426351</td>\n",
       "      <td>0</td>\n",
       "    </tr>\n",
       "    <tr>\n",
       "      <th>3</th>\n",
       "      <td>4</td>\n",
       "      <td>INVESTIR AU PAYS</td>\n",
       "      <td>7</td>\n",
       "      <td>20</td>\n",
       "      <td>118</td>\n",
       "      <td>19.666667</td>\n",
       "      <td>2.732520</td>\n",
       "      <td>1.070436</td>\n",
       "      <td>0</td>\n",
       "    </tr>\n",
       "    <tr>\n",
       "      <th>4</th>\n",
       "      <td>5</td>\n",
       "      <td>WENDY SHAY</td>\n",
       "      <td>9</td>\n",
       "      <td>25</td>\n",
       "      <td>137</td>\n",
       "      <td>22.833333</td>\n",
       "      <td>2.316607</td>\n",
       "      <td>8.207014</td>\n",
       "      <td>1</td>\n",
       "    </tr>\n",
       "  </tbody>\n",
       "</table>\n",
       "</div>"
      ],
      "text/plain": [
       "   id_influenceur   nom_influenceur  id_categorie  nb_votes  votes_cat  \\\n",
       "0               1   DUDE THAT COOKZ             5        13        123   \n",
       "1               2       PAPA SCRIPT            10        20        146   \n",
       "2               3  MICHAEL BLACKSON             6        24        143   \n",
       "3               4  INVESTIR AU PAYS             7        20        118   \n",
       "4               5        WENDY SHAY             9        25        137   \n",
       "\n",
       "     moy_cat    ec_cat      test  signif  \n",
       "0  20.500000  6.655825 -9.887916      -1  \n",
       "1  24.333333  6.153590 -6.179295      -1  \n",
       "2  23.833333  3.430258  0.426351       0  \n",
       "3  19.666667  2.732520  1.070436       0  \n",
       "4  22.833333  2.316607  8.207014       1  "
      ]
     },
     "execution_count": 226,
     "metadata": {},
     "output_type": "execute_result"
    }
   ],
   "source": [
    "todays.head()"
   ]
  }
 ],
 "metadata": {
  "kernelspec": {
   "display_name": "Python 3",
   "language": "python",
   "name": "python3"
  },
  "language_info": {
   "codemirror_mode": {
    "name": "ipython",
    "version": 3
   },
   "file_extension": ".py",
   "mimetype": "text/x-python",
   "name": "python",
   "nbconvert_exporter": "python",
   "pygments_lexer": "ipython3",
   "version": "3.8.3"
  }
 },
 "nbformat": 4,
 "nbformat_minor": 4
}
