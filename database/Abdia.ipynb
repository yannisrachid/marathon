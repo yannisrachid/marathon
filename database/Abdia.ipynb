{
 "cells": [
  {
   "cell_type": "markdown",
   "metadata": {},
   "source": [
    "# Intéragir avec notre base de données"
   ]
  },
  {
   "cell_type": "markdown",
   "metadata": {},
   "source": [
    "Visualisations de nos données sous forme de DataFrame, avec les mêmes colonnes que dans notre BDD MySQL"
   ]
  },
  {
   "cell_type": "code",
   "execution_count": 1,
   "metadata": {},
   "outputs": [],
   "source": [
    "import pandas as pd"
   ]
  },
  {
   "cell_type": "code",
   "execution_count": 26,
   "metadata": {},
   "outputs": [],
   "source": [
    "categories = ['Travel', 'Lifestyle', 'Fashion Homme', 'Fashion Femme', 'Food', 'Humour',\"Media d'influence\", 'Chanteurs', 'Chanteuses',\n",
    "              'Danseurs', 'Influenceur espoir', 'Figure Entrepreneur', \"Award d'honneur\"]"
   ]
  },
  {
   "cell_type": "code",
   "execution_count": 27,
   "metadata": {},
   "outputs": [],
   "source": [
    "categories = pd.DataFrame(categories, columns=['categorie'])"
   ]
  },
  {
   "cell_type": "code",
   "execution_count": 28,
   "metadata": {},
   "outputs": [
    {
     "data": {
      "text/html": [
       "<div>\n",
       "<style scoped>\n",
       "    .dataframe tbody tr th:only-of-type {\n",
       "        vertical-align: middle;\n",
       "    }\n",
       "\n",
       "    .dataframe tbody tr th {\n",
       "        vertical-align: top;\n",
       "    }\n",
       "\n",
       "    .dataframe thead th {\n",
       "        text-align: right;\n",
       "    }\n",
       "</style>\n",
       "<table border=\"1\" class=\"dataframe\">\n",
       "  <thead>\n",
       "    <tr style=\"text-align: right;\">\n",
       "      <th></th>\n",
       "      <th>categorie</th>\n",
       "    </tr>\n",
       "  </thead>\n",
       "  <tbody>\n",
       "    <tr>\n",
       "      <th>0</th>\n",
       "      <td>Travel</td>\n",
       "    </tr>\n",
       "    <tr>\n",
       "      <th>1</th>\n",
       "      <td>Lifestyle</td>\n",
       "    </tr>\n",
       "    <tr>\n",
       "      <th>2</th>\n",
       "      <td>Fashion Homme</td>\n",
       "    </tr>\n",
       "    <tr>\n",
       "      <th>3</th>\n",
       "      <td>Fashion Femme</td>\n",
       "    </tr>\n",
       "    <tr>\n",
       "      <th>4</th>\n",
       "      <td>Food</td>\n",
       "    </tr>\n",
       "    <tr>\n",
       "      <th>5</th>\n",
       "      <td>Humour</td>\n",
       "    </tr>\n",
       "    <tr>\n",
       "      <th>6</th>\n",
       "      <td>Media d'influence</td>\n",
       "    </tr>\n",
       "    <tr>\n",
       "      <th>7</th>\n",
       "      <td>Chanteurs</td>\n",
       "    </tr>\n",
       "    <tr>\n",
       "      <th>8</th>\n",
       "      <td>Chanteuses</td>\n",
       "    </tr>\n",
       "    <tr>\n",
       "      <th>9</th>\n",
       "      <td>Danseurs</td>\n",
       "    </tr>\n",
       "    <tr>\n",
       "      <th>10</th>\n",
       "      <td>Influenceur espoir</td>\n",
       "    </tr>\n",
       "    <tr>\n",
       "      <th>11</th>\n",
       "      <td>Figure Entrepreneur</td>\n",
       "    </tr>\n",
       "    <tr>\n",
       "      <th>12</th>\n",
       "      <td>Award d'honneur</td>\n",
       "    </tr>\n",
       "  </tbody>\n",
       "</table>\n",
       "</div>"
      ],
      "text/plain": [
       "              categorie\n",
       "0                Travel\n",
       "1             Lifestyle\n",
       "2         Fashion Homme\n",
       "3         Fashion Femme\n",
       "4                  Food\n",
       "5                Humour\n",
       "6     Media d'influence\n",
       "7             Chanteurs\n",
       "8            Chanteuses\n",
       "9              Danseurs\n",
       "10   Influenceur espoir\n",
       "11  Figure Entrepreneur\n",
       "12      Award d'honneur"
      ]
     },
     "execution_count": 28,
     "metadata": {},
     "output_type": "execute_result"
    }
   ],
   "source": [
    "categories"
   ]
  },
  {
   "cell_type": "code",
   "execution_count": 44,
   "metadata": {},
   "outputs": [],
   "source": [
    "influenceurs = {('SILVIA NJOKI', 1), ('ERICK PRINCE', 1), ('WINNIE RIOBA', 1), ('AMARACHI EKEKWE', 1), ('ELTON ANDERSON JR', 1),\n",
    "               ('MILLY MIRA', 1), ('AAMITO LAGUM', 2), ('SHARON MUNDIA', 2), ('NATACHASAMA', 2), ('SOBEKWA TWINS', 2),\n",
    "               ('FANTA KONE', 2), ('ABEER SINDER', 2), ('TREVOR STRUURMAN', 3), ('LOURENS GEBHARTD', 3), ('ARONE CROSS', 3),\n",
    "               ('ERNEST DINKU JR', 3), ('IGEE OKAFOR', 3), ('STEVEN ONOJA', 3), ('MELODY MOLALE', 4), ('BENGINE ELISCAR', 4),\n",
    "               ('AFUA RIDA', 4), ('ANERLISA MUIGAI', 4), ('ONYI MOSS', 4), ('LAMIC KIRABO', 4), ('KARELL VIGNON VULLIERME', 5),\n",
    "               ('HADIZA LAWAL', 5), ('BLACK FOODIE', 5), ('DUDE THAT COOKZ', 5), ('ESSIESPIECE', 5), ('IMMACULATESBITES', 5),\n",
    "               ('MICHAEL BLACKSON', 6), ('KAYVON STEEZIE', 6), ('NWE', 7), ('AFRIQUETTE', 7), ('INVESTIR AU PAYS', 7),\n",
    "               ('ROOTS MAGAZINE', 7), ('BURNA BOY', 8), ('DIAMOND PLATNUMZ', 8), ('KWESI ARTHUR', 8), ('DADJU', 8), ('TAYC', 8),\n",
    "               ('ROTIMI', 8), ('AYA NAKAMURA', 9), ('WENDY SHAY', 9), ('SHAN’L', 9), ('YEMI ALADE', 9), ('SHO MADJOZI', 9),\n",
    "                ('TIWA SAVAGE', 9), ('JENY BSG', 10), ('LA PETITE ZOTA', 10), ('BAD GYAL CASSIE', 10), ('LES TWINS', 10), ('TWIN 225 OFFICIEL', 10),\n",
    "               ('PAPA SCRIPT', 10), ('DOKOLOSS', 11), ('CRAZY SALLY', 11), ('UGO MOZIE', 12), ('THIONE NIANG', 12), ('OBINNA OKWODU', 12),\n",
    "               ('HAPSATOU SY', 12), ('BOZOMA SAINT JOHN', 12), ('THABISO MALAPE', 12), (\"FATOU N'DIAYE\", 13)}"
   ]
  },
  {
   "cell_type": "code",
   "execution_count": 45,
   "metadata": {},
   "outputs": [],
   "source": [
    "influenceurs = pd.DataFrame(influenceurs, columns=['nom_influenceur', 'id_categorie'])"
   ]
  },
  {
   "cell_type": "code",
   "execution_count": 46,
   "metadata": {},
   "outputs": [
    {
     "data": {
      "text/html": [
       "<div>\n",
       "<style scoped>\n",
       "    .dataframe tbody tr th:only-of-type {\n",
       "        vertical-align: middle;\n",
       "    }\n",
       "\n",
       "    .dataframe tbody tr th {\n",
       "        vertical-align: top;\n",
       "    }\n",
       "\n",
       "    .dataframe thead th {\n",
       "        text-align: right;\n",
       "    }\n",
       "</style>\n",
       "<table border=\"1\" class=\"dataframe\">\n",
       "  <thead>\n",
       "    <tr style=\"text-align: right;\">\n",
       "      <th></th>\n",
       "      <th>nom_influenceur</th>\n",
       "      <th>id_categorie</th>\n",
       "    </tr>\n",
       "  </thead>\n",
       "  <tbody>\n",
       "    <tr>\n",
       "      <th>27</th>\n",
       "      <td>MILLY MIRA</td>\n",
       "      <td>1</td>\n",
       "    </tr>\n",
       "    <tr>\n",
       "      <th>55</th>\n",
       "      <td>ELTON ANDERSON JR</td>\n",
       "      <td>1</td>\n",
       "    </tr>\n",
       "    <tr>\n",
       "      <th>21</th>\n",
       "      <td>SILVIA NJOKI</td>\n",
       "      <td>1</td>\n",
       "    </tr>\n",
       "    <tr>\n",
       "      <th>34</th>\n",
       "      <td>WINNIE RIOBA</td>\n",
       "      <td>1</td>\n",
       "    </tr>\n",
       "    <tr>\n",
       "      <th>6</th>\n",
       "      <td>AMARACHI EKEKWE</td>\n",
       "      <td>1</td>\n",
       "    </tr>\n",
       "    <tr>\n",
       "      <th>...</th>\n",
       "      <td>...</td>\n",
       "      <td>...</td>\n",
       "    </tr>\n",
       "    <tr>\n",
       "      <th>5</th>\n",
       "      <td>UGO MOZIE</td>\n",
       "      <td>12</td>\n",
       "    </tr>\n",
       "    <tr>\n",
       "      <th>19</th>\n",
       "      <td>BOZOMA SAINT JOHN</td>\n",
       "      <td>12</td>\n",
       "    </tr>\n",
       "    <tr>\n",
       "      <th>60</th>\n",
       "      <td>HAPSATOU SY</td>\n",
       "      <td>12</td>\n",
       "    </tr>\n",
       "    <tr>\n",
       "      <th>52</th>\n",
       "      <td>OBINNA OKWODU</td>\n",
       "      <td>12</td>\n",
       "    </tr>\n",
       "    <tr>\n",
       "      <th>11</th>\n",
       "      <td>FATOU N'DIAYE</td>\n",
       "      <td>13</td>\n",
       "    </tr>\n",
       "  </tbody>\n",
       "</table>\n",
       "<p>63 rows × 2 columns</p>\n",
       "</div>"
      ],
      "text/plain": [
       "      nom_influenceur  id_categorie\n",
       "27         MILLY MIRA             1\n",
       "55  ELTON ANDERSON JR             1\n",
       "21       SILVIA NJOKI             1\n",
       "34       WINNIE RIOBA             1\n",
       "6     AMARACHI EKEKWE             1\n",
       "..                ...           ...\n",
       "5           UGO MOZIE            12\n",
       "19  BOZOMA SAINT JOHN            12\n",
       "60        HAPSATOU SY            12\n",
       "52      OBINNA OKWODU            12\n",
       "11      FATOU N'DIAYE            13\n",
       "\n",
       "[63 rows x 2 columns]"
      ]
     },
     "execution_count": 46,
     "metadata": {},
     "output_type": "execute_result"
    }
   ],
   "source": [
    "influenceurs = influenceurs.sort_values(['id_categorie'])\n",
    "influenceurs"
   ]
  },
  {
   "cell_type": "code",
   "execution_count": 50,
   "metadata": {},
   "outputs": [
    {
     "data": {
      "text/plain": [
       "'MILLY MIRA'"
      ]
     },
     "execution_count": 50,
     "metadata": {},
     "output_type": "execute_result"
    }
   ],
   "source": [
    "influenceurs.iloc[0, 0]"
   ]
  },
  {
   "cell_type": "code",
   "execution_count": null,
   "metadata": {},
   "outputs": [],
   "source": []
  },
  {
   "cell_type": "markdown",
   "metadata": {},
   "source": [
    "Connexion à la base de données MySQL"
   ]
  },
  {
   "cell_type": "code",
   "execution_count": 36,
   "metadata": {},
   "outputs": [],
   "source": [
    "import mysql.connector"
   ]
  },
  {
   "cell_type": "markdown",
   "metadata": {},
   "source": [
    "Récupération des catégories sous forme de liste"
   ]
  },
  {
   "cell_type": "code",
   "execution_count": 37,
   "metadata": {},
   "outputs": [
    {
     "name": "stdout",
     "output_type": "stream",
     "text": [
      "['Travel', 'Lifestyle', 'Fashion Homme', 'Fashion Femme', 'Food', 'Humour', \"Media d'influence\", 'Chanteurs', 'Chanteuses', 'Danseurs', 'Influenceur espoir', 'Figure Entrepreneur', \"Award d'honneur\"]\n"
     ]
    }
   ],
   "source": [
    "list_categories=[]\n",
    "for i in range(0, len(categories)):\n",
    "    list_categories.append(categories.loc[i, 'categorie'])\n",
    "print(list_categories)"
   ]
  },
  {
   "cell_type": "code",
   "execution_count": 34,
   "metadata": {},
   "outputs": [],
   "source": [
    "#print(\"INSERT INTO categorie (id_categorie, nom_categorie) VALUES (NULL, \\\"\"+list_categories[0]+\"\\\")\")"
   ]
  },
  {
   "cell_type": "markdown",
   "metadata": {},
   "source": [
    "On insère directement dans notre BDD les différentes catégories"
   ]
  },
  {
   "cell_type": "code",
   "execution_count": 38,
   "metadata": {},
   "outputs": [],
   "source": [
    "config = {\n",
    "        'user': 'root',\n",
    "        'password': '',\n",
    "        'host': 'localhost',\n",
    "        'database': 'abdia'\n",
    "    }\n",
    "\n",
    "cnx = mysql.connector.connect(**config)\n",
    "cursor = cnx.cursor()\n",
    "\n",
    "for i in range(0, len(list_categories)):\n",
    "    add_categories = (\"INSERT INTO categorie (id_categorie, nom_categorie) VALUES (NULL, \\\"\"+list_categories[i]+\"\\\")\")\n",
    "    \n",
    "    cursor.execute(add_categories)\n",
    "    cnx.commit()\n",
    "    \n",
    "cursor.close()\n",
    "cnx.close()"
   ]
  },
  {
   "cell_type": "markdown",
   "metadata": {},
   "source": [
    "# Ajout des influenceurs dans notre BDD"
   ]
  },
  {
   "cell_type": "markdown",
   "metadata": {},
   "source": [
    "On liste les influenceurs de notre DataFrame."
   ]
  },
  {
   "cell_type": "code",
   "execution_count": 51,
   "metadata": {},
   "outputs": [
    {
     "name": "stdout",
     "output_type": "stream",
     "text": [
      "['DUDE THAT COOKZ', 'PAPA SCRIPT', 'MICHAEL BLACKSON', 'INVESTIR AU PAYS', 'WENDY SHAY', 'UGO MOZIE', 'AMARACHI EKEKWE', 'ANERLISA MUIGAI', 'AFUA RIDA', 'IMMACULATESBITES', 'ERICK PRINCE', \"FATOU N'DIAYE\", 'FANTA KONE', 'TAYC', 'TREVOR STRUURMAN', 'BLACK FOODIE', 'ROTIMI', 'ARONE CROSS', 'TWIN 225 OFFICIEL', 'BOZOMA SAINT JOHN', 'ABEER SINDER', 'SILVIA NJOKI', 'ERNEST DINKU JR', 'AAMITO LAGUM', 'SOBEKWA TWINS', 'KWESI ARTHUR', 'KARELL VIGNON VULLIERME', 'MILLY MIRA', 'LOURENS GEBHARTD', 'LAMIC KIRABO', 'ONYI MOSS', 'BENGINE ELISCAR', 'KAYVON STEEZIE', 'IGEE OKAFOR', 'WINNIE RIOBA', 'DIAMOND PLATNUMZ', 'AYA NAKAMURA', 'SHARON MUNDIA', 'ESSIESPIECE', 'CRAZY SALLY', 'TIWA SAVAGE', 'MELODY MOLALE', 'BAD GYAL CASSIE', 'THABISO MALAPE', 'SHAN’L', 'HADIZA LAWAL', 'LA PETITE ZOTA', 'DOKOLOSS', 'STEVEN ONOJA', 'NATACHASAMA', 'BURNA BOY', 'THIONE NIANG', 'OBINNA OKWODU', 'NWE', 'YEMI ALADE', 'ELTON ANDERSON JR', 'ROOTS MAGAZINE', 'DADJU', 'SHO MADJOZI', 'LES TWINS', 'HAPSATOU SY', 'AFRIQUETTE', 'JENY BSG']\n"
     ]
    }
   ],
   "source": [
    "list_influenceurs=[]\n",
    "for i in range(0, len(influenceurs)):\n",
    "    list_influenceurs.append(influenceurs.loc[i, 'nom_influenceur'])\n",
    "print(list_influenceurs)"
   ]
  },
  {
   "cell_type": "code",
   "execution_count": 53,
   "metadata": {},
   "outputs": [
    {
     "data": {
      "text/plain": [
       "63"
      ]
     },
     "execution_count": 53,
     "metadata": {},
     "output_type": "execute_result"
    }
   ],
   "source": [
    "len(list_influenceurs)"
   ]
  },
  {
   "cell_type": "markdown",
   "metadata": {},
   "source": [
    "On liste les id des catégories associées aux influenceurs de notre DataFrame."
   ]
  },
  {
   "cell_type": "code",
   "execution_count": 52,
   "metadata": {},
   "outputs": [
    {
     "name": "stdout",
     "output_type": "stream",
     "text": [
      "[5, 10, 6, 7, 9, 12, 1, 4, 4, 5, 1, 13, 2, 8, 3, 5, 8, 3, 10, 12, 2, 1, 3, 2, 2, 8, 5, 1, 3, 4, 4, 4, 6, 3, 1, 8, 9, 2, 5, 11, 9, 4, 10, 12, 9, 5, 10, 11, 3, 2, 8, 12, 12, 7, 9, 1, 7, 8, 9, 10, 12, 7, 10]\n"
     ]
    }
   ],
   "source": [
    "list_id_cat=[]\n",
    "for i in range(0, len(influenceurs)):\n",
    "    list_id_cat.append(influenceurs.loc[i, 'id_categorie'])\n",
    "print(list_id_cat)"
   ]
  },
  {
   "cell_type": "code",
   "execution_count": 54,
   "metadata": {},
   "outputs": [
    {
     "data": {
      "text/plain": [
       "63"
      ]
     },
     "execution_count": 54,
     "metadata": {},
     "output_type": "execute_result"
    }
   ],
   "source": [
    "len(list_id_cat)"
   ]
  },
  {
   "cell_type": "code",
   "execution_count": 60,
   "metadata": {},
   "outputs": [],
   "source": [
    "#print(\"INSERT INTO influenceur (id_influenceur, nom_influenceur, id_categorie) VALUES (NULL, \\\"\"+list_influenceurs[0]+\"\\\", \"+str(list_id_cat[0])+''\")\")"
   ]
  },
  {
   "cell_type": "markdown",
   "metadata": {},
   "source": [
    "On ajoute les données qui correspondent à notre table influenceurs"
   ]
  },
  {
   "cell_type": "code",
   "execution_count": 59,
   "metadata": {},
   "outputs": [],
   "source": [
    "config = {\n",
    "        'user': 'root',\n",
    "        'password': '',\n",
    "        'host': 'localhost',\n",
    "        'database': 'abdia'\n",
    "    }\n",
    "\n",
    "cnx = mysql.connector.connect(**config)\n",
    "cursor = cnx.cursor()\n",
    "\n",
    "for i in range(0, len(list_influenceurs)):\n",
    "    add_influenceurs = (\"INSERT INTO influenceur (id_influenceur, nom_influenceur, id_categorie) VALUES (NULL, \\\"\"+list_influenceurs[i]+\"\\\", \"+str(list_id_cat[i])+''\")\")\n",
    "    \n",
    "    cursor.execute(add_influenceurs)\n",
    "    cnx.commit()\n",
    "    \n",
    "cursor.close()\n",
    "cnx.close()"
   ]
  }
 ],
 "metadata": {
  "kernelspec": {
   "display_name": "Python 3",
   "language": "python",
   "name": "python3"
  },
  "language_info": {
   "codemirror_mode": {
    "name": "ipython",
    "version": 3
   },
   "file_extension": ".py",
   "mimetype": "text/x-python",
   "name": "python",
   "nbconvert_exporter": "python",
   "pygments_lexer": "ipython3",
   "version": "3.8.3"
  }
 },
 "nbformat": 4,
 "nbformat_minor": 4
}
