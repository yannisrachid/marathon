{
 "cells": [
  {
   "cell_type": "code",
   "execution_count": 2,
   "metadata": {},
   "outputs": [],
   "source": [
    "import pandas as pd"
   ]
  },
  {
   "cell_type": "code",
   "execution_count": 3,
   "metadata": {},
   "outputs": [],
   "source": [
    "pays_coor=pd.read_csv('fichiers/pays_avec_coordonnées.csv')"
   ]
  },
  {
   "cell_type": "code",
   "execution_count": 18,
   "metadata": {},
   "outputs": [
    {
     "data": {
      "text/html": [
       "<div>\n",
       "<style scoped>\n",
       "    .dataframe tbody tr th:only-of-type {\n",
       "        vertical-align: middle;\n",
       "    }\n",
       "\n",
       "    .dataframe tbody tr th {\n",
       "        vertical-align: top;\n",
       "    }\n",
       "\n",
       "    .dataframe thead th {\n",
       "        text-align: right;\n",
       "    }\n",
       "</style>\n",
       "<table border=\"1\" class=\"dataframe\">\n",
       "  <thead>\n",
       "    <tr style=\"text-align: right;\">\n",
       "      <th></th>\n",
       "      <th>NOM</th>\n",
       "      <th>NOM_ALPHA</th>\n",
       "      <th>CODE</th>\n",
       "      <th>ARTICLE</th>\n",
       "      <th>NOM_LONG</th>\n",
       "      <th>CAPITALE</th>\n",
       "      <th>longitude</th>\n",
       "      <th>latitude</th>\n",
       "    </tr>\n",
       "  </thead>\n",
       "  <tbody>\n",
       "    <tr>\n",
       "      <th>173</th>\n",
       "      <td>Suriname</td>\n",
       "      <td>Suriname</td>\n",
       "      <td>SUR</td>\n",
       "      <td>le</td>\n",
       "      <td>République du Suriname</td>\n",
       "      <td>Paramaribo</td>\n",
       "      <td>-56.027783</td>\n",
       "      <td>3.919305</td>\n",
       "    </tr>\n",
       "  </tbody>\n",
       "</table>\n",
       "</div>"
      ],
      "text/plain": [
       "          NOM NOM_ALPHA CODE ARTICLE                NOM_LONG    CAPITALE  \\\n",
       "173  Suriname  Suriname  SUR      le  République du Suriname  Paramaribo   \n",
       "\n",
       "     longitude  latitude  \n",
       "173 -56.027783  3.919305  "
      ]
     },
     "execution_count": 18,
     "metadata": {},
     "output_type": "execute_result"
    }
   ],
   "source": [
    "pays_coor[pays_coor.NOM=='Suriname']\n",
    "    "
   ]
  },
  {
   "cell_type": "code",
   "execution_count": 7,
   "metadata": {},
   "outputs": [
    {
     "data": {
      "text/html": [
       "<div>\n",
       "<style scoped>\n",
       "    .dataframe tbody tr th:only-of-type {\n",
       "        vertical-align: middle;\n",
       "    }\n",
       "\n",
       "    .dataframe tbody tr th {\n",
       "        vertical-align: top;\n",
       "    }\n",
       "\n",
       "    .dataframe thead th {\n",
       "        text-align: right;\n",
       "    }\n",
       "</style>\n",
       "<table border=\"1\" class=\"dataframe\">\n",
       "  <thead>\n",
       "    <tr style=\"text-align: right;\">\n",
       "      <th></th>\n",
       "      <th>NOM_ALPHA</th>\n",
       "      <th>CODE</th>\n",
       "      <th>ARTICLE</th>\n",
       "      <th>NOM_LONG</th>\n",
       "      <th>CAPITALE</th>\n",
       "      <th>longitude</th>\n",
       "      <th>latitude</th>\n",
       "    </tr>\n",
       "    <tr>\n",
       "      <th>NOM</th>\n",
       "      <th></th>\n",
       "      <th></th>\n",
       "      <th></th>\n",
       "      <th></th>\n",
       "      <th></th>\n",
       "      <th></th>\n",
       "      <th></th>\n",
       "    </tr>\n",
       "  </thead>\n",
       "  <tbody>\n",
       "    <tr>\n",
       "      <th>Afghanistan</th>\n",
       "      <td>Afghanistan</td>\n",
       "      <td>AFG</td>\n",
       "      <td>l'</td>\n",
       "      <td>République islamique d'Afghanistan</td>\n",
       "      <td>Kaboul</td>\n",
       "      <td>67.709953</td>\n",
       "      <td>33.939110</td>\n",
       "    </tr>\n",
       "    <tr>\n",
       "      <th>Afrique du Sud</th>\n",
       "      <td>Afrique du Sud</td>\n",
       "      <td>ZAF</td>\n",
       "      <td>l'</td>\n",
       "      <td>République d'Afrique du Sud</td>\n",
       "      <td>Prétoria</td>\n",
       "      <td>22.937506</td>\n",
       "      <td>-30.559482</td>\n",
       "    </tr>\n",
       "    <tr>\n",
       "      <th>Albanie</th>\n",
       "      <td>Albanie</td>\n",
       "      <td>ALB</td>\n",
       "      <td>l'</td>\n",
       "      <td>République d'Albanie</td>\n",
       "      <td>Tirana</td>\n",
       "      <td>20.168331</td>\n",
       "      <td>41.153332</td>\n",
       "    </tr>\n",
       "    <tr>\n",
       "      <th>Algérie</th>\n",
       "      <td>Algérie</td>\n",
       "      <td>DZA</td>\n",
       "      <td>l'</td>\n",
       "      <td>République algérienne démocratique et populaire</td>\n",
       "      <td>Alger</td>\n",
       "      <td>1.659626</td>\n",
       "      <td>28.033886</td>\n",
       "    </tr>\n",
       "    <tr>\n",
       "      <th>Allemagne</th>\n",
       "      <td>Allemagne</td>\n",
       "      <td>DEU</td>\n",
       "      <td>l'</td>\n",
       "      <td>République fédérale d'Allemagne</td>\n",
       "      <td>Berlin</td>\n",
       "      <td>10.451526</td>\n",
       "      <td>51.165691</td>\n",
       "    </tr>\n",
       "  </tbody>\n",
       "</table>\n",
       "</div>"
      ],
      "text/plain": [
       "                     NOM_ALPHA CODE ARTICLE  \\\n",
       "NOM                                           \n",
       "Afghanistan        Afghanistan  AFG      l'   \n",
       "Afrique du Sud  Afrique du Sud  ZAF      l'   \n",
       "Albanie                Albanie  ALB      l'   \n",
       "Algérie                Algérie  DZA      l'   \n",
       "Allemagne            Allemagne  DEU      l'   \n",
       "\n",
       "                                                       NOM_LONG  CAPITALE  \\\n",
       "NOM                                                                         \n",
       "Afghanistan                  République islamique d'Afghanistan    Kaboul   \n",
       "Afrique du Sud                      République d'Afrique du Sud  Prétoria   \n",
       "Albanie                                    République d'Albanie    Tirana   \n",
       "Algérie         République algérienne démocratique et populaire     Alger   \n",
       "Allemagne                       République fédérale d'Allemagne    Berlin   \n",
       "\n",
       "                longitude   latitude  \n",
       "NOM                                   \n",
       "Afghanistan     67.709953  33.939110  \n",
       "Afrique du Sud  22.937506 -30.559482  \n",
       "Albanie         20.168331  41.153332  \n",
       "Algérie          1.659626  28.033886  \n",
       "Allemagne       10.451526  51.165691  "
      ]
     },
     "execution_count": 7,
     "metadata": {},
     "output_type": "execute_result"
    }
   ],
   "source": [
    "data=data.set_index('NOM')\n",
    "data.head()"
   ]
  },
  {
   "cell_type": "code",
   "execution_count": 8,
   "metadata": {},
   "outputs": [
    {
     "data": {
      "text/plain": [
       "'SENEGAL'"
      ]
     },
     "execution_count": 8,
     "metadata": {},
     "output_type": "execute_result"
    }
   ],
   "source": [
    "stri='senegal'\n",
    "stri.upper()"
   ]
  },
  {
   "cell_type": "code",
   "execution_count": 9,
   "metadata": {},
   "outputs": [
    {
     "data": {
      "text/plain": [
       "'SÉNÉGAL'"
      ]
     },
     "execution_count": 9,
     "metadata": {},
     "output_type": "execute_result"
    }
   ],
   "source": [
    "stri='Sénégal'\n",
    "stri.upper()"
   ]
  },
  {
   "cell_type": "code",
   "execution_count": null,
   "metadata": {},
   "outputs": [],
   "source": []
  }
 ],
 "metadata": {
  "kernelspec": {
   "display_name": "Python 3",
   "language": "python",
   "name": "python3"
  },
  "language_info": {
   "codemirror_mode": {
    "name": "ipython",
    "version": 3
   },
   "file_extension": ".py",
   "mimetype": "text/x-python",
   "name": "python",
   "nbconvert_exporter": "python",
   "pygments_lexer": "ipython3",
   "version": "3.8.5"
  }
 },
 "nbformat": 4,
 "nbformat_minor": 4
}
